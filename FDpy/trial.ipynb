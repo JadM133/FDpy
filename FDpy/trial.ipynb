{
 "cells": [
  {
   "attachments": {},
   "cell_type": "markdown",
   "metadata": {},
   "source": [
    "# Tutorial sample for FDpy\n",
    "## Introduction\n",
    "The purpose of the notebook is to give some exampls on how to use the library and explain some of the theory behind it. The library aims on solving most PDEs of the following form:\n",
    "$$a_0+a_1U+a_2U_x+a_3U_{xx}+...=b_0+b_1U+b_2U_t+b3U_{tt}+...$$\n",
    "On a one dimensional domain (i.e. a line) of length L. The problem can be given boundary conditions of the following general form:\n",
    "$$U(x=0)= c_1+c_2U(x=\\Delta x)+c_3U(x=2\\Delta x)+...$$\n",
    "Where $c$ s are constants. Initial conditions can be defined in the same way.  \n",
    "Note: The boundary conditions can only be specified at the start/end points (e.g. $U(x=0)$, $U(x=\\Delta x)$ and $U(x=L)$ if 3 boundary conditions are needed). Also, initial conditions can only be specified at starting times.\n",
    "## Using the Library\n",
    "### Step 1: Import the required class\n",
    "The class Fd_problem defines the finite difference problem that we want to solve. This class will later include all the required information about the problem."
   ]
  },
  {
   "cell_type": "code",
   "execution_count": 210,
   "metadata": {},
   "outputs": [],
   "source": [
    "from FDpy.fd_problem import Fd_problem\n",
    "import math"
   ]
  },
  {
   "attachments": {},
   "cell_type": "markdown",
   "metadata": {},
   "source": [
    "### Step 2: Define the problem to be solved\n",
    "As an example, we will be solving the diffusion equation:  \n",
    "$$U_{xx}=U_t$$\n",
    "On a domain from 0 to 10. With the following boundary conditions:\n",
    "$$U(x=0)=0,\\qquad\\qquad\\qquad \\frac{\\partial U}{\\partial x}(x=10)=0.$$ \n",
    "And the following initial condition:\n",
    "$$U(t=0)=1.$$\n",
    "Note that even though this will be the only detailed example, the code implementation of more complicated examples can be found in the end of the notebook.  \n",
    "We will start by defining the problem in the following code:"
   ]
  },
  {
   "cell_type": "code",
   "execution_count": 211,
   "metadata": {},
   "outputs": [],
   "source": [
    "domain = (0, 10)  # Define the line as a list containing start/end points respectively.\n",
    "interval = (0, 20)  # Define the time interval on which we wish to solve the problem."
   ]
  },
  {
   "attachments": {},
   "cell_type": "markdown",
   "metadata": {},
   "source": [
    "### Defining boundary conditions:\n",
    "As previously mentioned, there is a lot of flexibility in specifying boundary conditions since they can depend on the values of inner nodes.   \n",
    "General note: Unfortunately, boundary nodes can depend on inner nodes but **CAN NOT** depend on each others for now.  \n",
    "The boundary conditions are specified in a list (in this case of length 2). Every entry of the list can either be a number, or a tuple which defines the equation associated with the boundary condition. For example, in our case the boundary condtions are defined as follows:"
   ]
  },
  {
   "cell_type": "code",
   "execution_count": 212,
   "metadata": {},
   "outputs": [],
   "source": [
    "boundary = (0, (0, 1))"
   ]
  },
  {
   "attachments": {},
   "cell_type": "markdown",
   "metadata": {},
   "source": [
    "The first entry clearly specifies the first boundary condition ($U=0$ at $x=0$). The second one on the other hand means the following:\n",
    "$$U(x=10)=0+1\\times U(x=10-\\Delta x)$$\n",
    "Which is the same as the second boundary condition when we approximate the derivative using finite differences.\n",
    "Note: Specifying a tuple for the left boundary conditions will imply dependences on inner nodes going from right to left (i.e. a constant, then $U(x=\\Delta x)$, then $U(x=2\\Delta x)$, ...). On the other hand, specifying a tuple for right boundary conditions will imply dependence on left inner points (i.e. a constant, then $U(x=10-\\Delta x)$, then $U(x=10-2\\Delta x)$, ...). Now the problem remains, how would the program know which boundary condition is to which node? Even though it is straight forward in this case (only two boundary conditions), we have to also specify a map for the boundary conditions to specify the positions of each value previously given."
   ]
  },
  {
   "cell_type": "code",
   "execution_count": 213,
   "metadata": {},
   "outputs": [],
   "source": [
    "bc_map = [0, -1]  # This means first BC is at the 0th element, and the second as at the last element."
   ]
  },
  {
   "attachments": {},
   "cell_type": "markdown",
   "metadata": {},
   "source": [
    "### Defining Initial conditions\n",
    "Initial conditions can be defined in multiple ways. Either integers (just one value), or a tuple (when initial conditions depend on **Each others**), a specifed function using the Expressions class (for an example check the last part of the notebook), or an array specifying values at every point in x.\n",
    "Note: For now, initial conditions can only depend on each others and not on future nodes. In our case, we can simply define the initial condition as follows:"
   ]
  },
  {
   "cell_type": "code",
   "execution_count": 214,
   "metadata": {},
   "outputs": [],
   "source": [
    "initial = [1]"
   ]
  },
  {
   "attachments": {},
   "cell_type": "markdown",
   "metadata": {},
   "source": [
    "### Defining the equation\n",
    "The equation is defined by a list of two tuples (each specifying one part of the equation). A similar strategy as the one used to specify boundary conditions is used. In a certain tuple, the first entry multiplies a constant, the second multiplies $U$, the third multiplies the first derivative of $U$, then the second derivative, etc.. Accordingly, we define the diffusion equation as follows."
   ]
  },
  {
   "cell_type": "code",
   "execution_count": 215,
   "metadata": {},
   "outputs": [],
   "source": [
    "equation = [(0, 0, 0, 1), (0, 0, 1)]  # Uxx = Ut"
   ]
  },
  {
   "attachments": {},
   "cell_type": "markdown",
   "metadata": {},
   "source": [
    "### Remaining parameters\n",
    "Lastly, we define the remaining parameters. These include the step size in both time and space, as well as the method we ould like to use to approximate the derivatives. The methods are specified by a list of two strings (first for space, second for time). The method included are center FD \"cen\", backward FD \"bac\", and forward FD \"for\"."
   ]
  },
  {
   "cell_type": "code",
   "execution_count": 216,
   "metadata": {},
   "outputs": [],
   "source": [
    "dx = 0.1\n",
    "dt = 0.1\n",
    "method=[\"cen\", \"for\"]"
   ]
  },
  {
   "attachments": {},
   "cell_type": "markdown",
   "metadata": {},
   "source": [
    "The choice of the method can be anything as long as the boundary conditions are the right ones. Sometimes, it is hard to know which boundary conditions should be specified. Alternatively, we created a function that helps in this matter! More details can be found in the rest of the notebook (function self.info()).  \n",
    "Now we are finally ready to define the instance of the class."
   ]
  },
  {
   "cell_type": "code",
   "execution_count": 217,
   "metadata": {},
   "outputs": [],
   "source": [
    "prob = Fd_problem(domain, interval, equation, boundary, initial, dx, dt, method=[\"cen\", \"for\"], bc_map=bc_map)"
   ]
  },
  {
   "attachments": {},
   "cell_type": "markdown",
   "metadata": {},
   "source": [
    "And that's actually it! Now the only thing we have to do is to run forward in time using the following function:"
   ]
  },
  {
   "cell_type": "code",
   "execution_count": 218,
   "metadata": {},
   "outputs": [
    {
     "name": "stdout",
     "output_type": "stream",
     "text": [
      "*******************Approximation*****************\n",
      "Left hand side: (-2.0*U(i,j+1)+U(i+1,j+1)+U(i-1,j+1))/dx^2\n",
      "Right hand side: (-1.0*U(i,j)+U(i,j+1))/dt^1\n",
      "Where U(i, j) means at point x = i*delta x and t = j * delta t\n",
      "Solving the matrix system for all times...\n"
     ]
    }
   ],
   "source": [
    "solution = prob.forward_in_time(acc_x=2, acc_t=1, verbose=True)  # We can specify required accuracy in space and time."
   ]
  },
  {
   "attachments": {},
   "cell_type": "markdown",
   "metadata": {},
   "source": [
    "The solution is a matrix of shape X_points*t_points (each column is the solution at a specific time step).\n",
    "### Post processing\n",
    "The library also contains some post-processing tool where the solution can be animated and compared to an actual solution (if it exists). Note that in this case the similarity solution is as follows:\n",
    "$$\\mathrm{erf}\\left(\\frac{x}{2t^{0.5}}\\right)$$"
   ]
  },
  {
   "cell_type": "code",
   "execution_count": 220,
   "metadata": {},
   "outputs": [
    {
     "name": "stdout",
     "output_type": "stream",
     "text": [
      "Creating animation, this might take a while...\n"
     ]
    },
    {
     "data": {
      "image/png": "[encoded data removed]",
      "text/plain": [
       "<Figure size 640x480 with 1 Axes>"
      ]
     },
     "metadata": {},
     "output_type": "display_data"
    },
    {
     "name": "stderr",
     "output_type": "stream",
     "text": [
      "c:\\Users\\mounayej\\Desktop\\FDpy\\FDpy\\.venv\\Lib\\site-packages\\matplotlib\\animation.py:884: UserWarning: Animation was deleted without rendering anything. This is most likely not intended. To prevent deletion, assign the Animation to a variable, e.g. `anim`, that exists until you output the Animation using `plt.show()` or `anim.save()`.\n",
      "  warnings.warn(\n"
     ]
    }
   ],
   "source": [
    "def func(x, t):\n",
    "    return math.erf(x/(2*(t+0.00001)**0.5))\n",
    "\n",
    "er = prob.post_process(solution, exact=func, save=False)"
   ]
  }
 ],
 "metadata": {
  "kernelspec": {
   "display_name": ".venv",
   "language": "python",
   "name": "python3"
  },
  "language_info": {
   "codemirror_mode": {
    "name": "ipython",
    "version": 3
   },
   "file_extension": ".py",
   "mimetype": "text/x-python",
   "name": "python",
   "nbconvert_exporter": "python",
   "pygments_lexer": "ipython3",
   "version": "3.11.4"
  },
  "orig_nbformat": 4
 },
 "nbformat": 4,
 "nbformat_minor": 2
}
